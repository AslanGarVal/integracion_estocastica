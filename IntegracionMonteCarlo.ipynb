{
 "cells": [
  {
   "cell_type": "code",
   "execution_count": 2,
   "id": "962a8739",
   "metadata": {},
   "outputs": [],
   "source": [
    "import numpy as np\n"
   ]
  },
  {
   "cell_type": "markdown",
   "id": "99dccabd",
   "metadata": {},
   "source": [
    "$$\\int_{-\\infty}^\\infty e^{-x^2} dx$$\n",
    "\n",
    "Como la integral tiene límites impropios de integración, no es inmediato hacer la integración estocástica porque no hay una región acotada de donde se pueda muestrear. Si uno hace un cambio de variable inteligente, podemos obtener una región acotada para muestrear. \n",
    "\n",
    "Sea $x = \\tan(u)$, entonces por el teorema de cambio de variable, la integral se puede reescribir como: \n",
    "\n",
    "$$\\int_{-\\frac\\pi2}^{\\frac\\pi2}e^{-\\tan^2u}\\frac{2}{\\cos(2u) + 1} du$$\n",
    "Esta integral sí tiene una región acotada y se puede calcular fácilmente por Monte Carlo"
   ]
  },
  {
   "cell_type": "code",
   "execution_count": 8,
   "id": "dbee6fb6",
   "metadata": {},
   "outputs": [],
   "source": [
    "n = 100000 #numero de muestras para aproximar\n",
    "a = -np.pi/2\n",
    "b = np.pi/2\n",
    "samples = np.random.uniform(a, b, n)\n",
    "\n",
    "def f(u):\n",
    "    #la funcion a integrar\n",
    "    return np.exp(-np.tan(u)**2)*2/(np.cos(2*u) + 1)"
   ]
  },
  {
   "cell_type": "code",
   "execution_count": 17,
   "id": "8b2d6fcb",
   "metadata": {},
   "outputs": [
    {
     "name": "stdout",
     "output_type": "stream",
     "text": [
      "Integral aproximada: 1.769759490496885\n",
      "Valor real de la integral: 1.7724538509055159\n"
     ]
    }
   ],
   "source": [
    "volumen = (b - a) #factor de normalizacion\n",
    "#mapea las muestras con la funcion a integrar\n",
    "f_samples = f(samples)\n",
    "print(f'Integral aproximada: {np.mean(f_samples) * volumen}')\n",
    "print(f'Valor real de la integral: {np.sqrt(np.pi)}')"
   ]
  },
  {
   "cell_type": "markdown",
   "id": "fb3e902a",
   "metadata": {},
   "source": [
    "$$\\int_0^\\infty \\frac{x}{(1+x)^2}$$\n",
    "\n",
    "Esta integral también tiene límites impropios por lo que también se usa el mismo truco de cambio de variable para producir una integral sobre una región acotada. Como $tan(0) = 0$, podemos utilizar el mismo cambio de variable, sólo cambiando la cota inferior de la región de integración."
   ]
  },
  {
   "cell_type": "code",
   "execution_count": 18,
   "id": "039f216f",
   "metadata": {},
   "outputs": [
    {
     "name": "stdout",
     "output_type": "stream",
     "text": [
      "Integral aproximada: 0.49966861814952285\n",
      "Valor real: 0.5\n"
     ]
    }
   ],
   "source": [
    "a1 = 0 # nueva cota inferior del intervalo, b se queda igual\n",
    "samples1 = np.random.uniform(a1, b, n)\n",
    "\n",
    "def f1(u): \n",
    "    #la siguiente funcion a integrar\n",
    "    return np.tan(u)/(1 + np.tan(u)**2)**2*2/(np.cos(2*u) + 1)\n",
    "\n",
    "volumen1 = (b - a1)\n",
    "fsamples1 = f1(samples1)\n",
    "print(f'Integral aproximada: {np.mean(fsamples1) * volumen1}')\n",
    "print(f'Valor real: {0.5}')"
   ]
  },
  {
   "cell_type": "code",
   "execution_count": null,
   "id": "745917d5",
   "metadata": {},
   "outputs": [],
   "source": []
  }
 ],
 "metadata": {
  "kernelspec": {
   "display_name": "Python 3 (ipykernel)",
   "language": "python",
   "name": "python3"
  },
  "language_info": {
   "codemirror_mode": {
    "name": "ipython",
    "version": 3
   },
   "file_extension": ".py",
   "mimetype": "text/x-python",
   "name": "python",
   "nbconvert_exporter": "python",
   "pygments_lexer": "ipython3",
   "version": "3.10.6"
  }
 },
 "nbformat": 4,
 "nbformat_minor": 5
}
